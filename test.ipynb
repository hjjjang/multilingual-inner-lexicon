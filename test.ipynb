{
 "cells": [
  {
   "cell_type": "code",
   "execution_count": null,
   "id": "0",
   "metadata": {},
   "outputs": [],
   "source": []
  },
  {
   "cell_type": "code",
   "execution_count": null,
   "id": "1",
   "metadata": {},
   "outputs": [],
   "source": [
    "model_full_name_map = {\n",
    "    \"Llama-2-7b-chat-hf\": \"meta-llama/Llama-2-7b-chat-hf\",\n",
    "    \"Babel-9B-Chat\": \"Tower-Babel/Babel-9B-Chat\",\n",
    "    \"gemma-3-12b-it\": \"google/gemma-3-12b-it\"\n",
    "}\n",
    "import torch\n",
    "from utils import setup_model"
   ]
  },
  {
   "cell_type": "code",
   "execution_count": null,
   "id": "2",
   "metadata": {},
   "outputs": [],
   "source": [
    "model_llama = setup_model(\"meta-llama/Llama-2-7b-chat-hf\")\n",
    "# Get the weights of the input embeddings and the lm_head\n",
    "input_embeddings_weight = model_llama.get_input_embeddings().weight\n",
    "lm_head_weight = model_llama.lm_head.weight\n",
    "\n",
    "# Check if the two tensors are identical\n",
    "are_identical = torch.equal(input_embeddings_weight, lm_head_weight)\n",
    "\n",
    "print(f\"Are the input embeddings and lm_head weights identical? {are_identical}\")"
   ]
  },
  {
   "cell_type": "code",
   "execution_count": null,
   "id": "3",
   "metadata": {},
   "outputs": [],
   "source": [
    "model_gemma = setup_model(\"google/gemma-3-12b-it\")\n",
    "input_embeddings_weight = model_gemma.get_input_embeddings().weight\n",
    "lm_head_weight = model_gemma.lm_head.weight\n",
    "\n",
    "# Check if the two tensors are identical\n",
    "are_identical = torch.equal(input_embeddings_weight, lm_head_weight)\n",
    "\n",
    "print(f\"Are the input embeddings and lm_head weights identical? {are_identical}\")"
   ]
  },
  {
   "cell_type": "code",
   "execution_count": null,
   "id": "4",
   "metadata": {},
   "outputs": [],
   "source": [
    "model_babel = setup_model(\"Tower-Babel/Babel-9B-Chat\")\n",
    "input_embeddings_weight = model_babel.get_input_embeddings().weight\n",
    "lm_head_weight = model_babel.lm_head.weight\n",
    "\n",
    "# Check if the two tensors are identical\n",
    "are_identical = torch.equal(input_embeddings_weight, lm_head_weight)\n",
    "\n",
    "print(f\"Are the input embeddings and lm_head weights identical? {are_identical}\")"
   ]
  }
 ],
 "metadata": {
  "kernelspec": {
   "display_name": "THESIS",
   "language": "python",
   "name": "thesis"
  },
  "language_info": {
   "codemirror_mode": {
    "name": "ipython",
    "version": 3
   },
   "file_extension": ".py",
   "mimetype": "text/x-python",
   "name": "python",
   "nbconvert_exporter": "python",
   "pygments_lexer": "ipython3",
   "version": "3.12.9"
  }
 },
 "nbformat": 4,
 "nbformat_minor": 5
}
