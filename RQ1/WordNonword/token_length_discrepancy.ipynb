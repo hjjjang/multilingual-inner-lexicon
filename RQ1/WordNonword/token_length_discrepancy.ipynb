{
 "cells": [
  {
   "cell_type": "code",
   "execution_count": null,
   "id": "0",
   "metadata": {},
   "outputs": [],
   "source": [
    "import pandas as pd\n",
    "from  ast import literal_eval"
   ]
  },
  {
   "cell_type": "code",
   "execution_count": null,
   "id": "1",
   "metadata": {},
   "outputs": [],
   "source": [
    "babel = pd.read_csv(\"/home/hyujang/multilingual-inner-lexicon/data/RQ1/WordNonword/wordnonword_Babel-9B-Chat_Korean.csv\")\n",
    "gemma = pd.read_csv(\"/home/hyujang/multilingual-inner-lexicon/data/RQ1/WordNonword/wordnonword_gemma-3-12b-it_Korean.csv\")\n",
    "llama = pd.read_csv(\"/home/hyujang/multilingual-inner-lexicon/data/RQ1/WordNonword/wordnonword_Llama-2-7b-chat-hf_Korean.csv\")"
   ]
  },
  {
   "cell_type": "code",
   "execution_count": null,
   "id": "2",
   "metadata": {},
   "outputs": [],
   "source": [
    "babel[(babel[\"token_num\"]==4) & (babel[\"label\"]==\"realword\")][\"word\"].apply(len).mean()"
   ]
  },
  {
   "cell_type": "code",
   "execution_count": null,
   "id": "3",
   "metadata": {},
   "outputs": [],
   "source": [
    "gemma[(gemma[\"token_num\"]==4) & (gemma[\"label\"]==\"realword\")][\"word\"].apply(len).mean()"
   ]
  },
  {
   "cell_type": "code",
   "execution_count": null,
   "id": "4",
   "metadata": {},
   "outputs": [],
   "source": [
    "llama[(llama[\"token_num\"]==4) & (llama[\"label\"]==\"realword\")][\"word\"].apply(len).mean()"
   ]
  }
 ],
 "metadata": {
  "kernelspec": {
   "display_name": "thesis",
   "language": "python",
   "name": "python3"
  },
  "language_info": {
   "codemirror_mode": {
    "name": "ipython",
    "version": 3
   },
   "file_extension": ".py",
   "mimetype": "text/x-python",
   "name": "python",
   "nbconvert_exporter": "python",
   "pygments_lexer": "ipython3",
   "version": "3.12.9"
  }
 },
 "nbformat": 4,
 "nbformat_minor": 5
}
