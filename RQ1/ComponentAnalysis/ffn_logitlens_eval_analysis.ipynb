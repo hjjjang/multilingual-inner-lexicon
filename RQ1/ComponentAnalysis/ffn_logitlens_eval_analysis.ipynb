{
 "cells": [
  {
   "cell_type": "code",
   "execution_count": null,
   "id": "0",
   "metadata": {},
   "outputs": [],
   "source": [
    "import os\n",
    "os.environ[\"CUDA_VISIBLE_DEVICES\"] = \"0\"\n",
    "\n",
    "import sys\n",
    "sys.path.append(\"/home/hyujang/multilingual-inner-lexicon/RQ1/WordIdentity\")\n",
    "from logitlens import LogitLens\n",
    "import pandas as pd\n",
    "import matplotlib.pyplot as plt\n",
    "import ast"
   ]
  },
  {
   "cell_type": "code",
   "execution_count": null,
   "id": "1",
   "metadata": {},
   "outputs": [],
   "source": [
    "MODEL_NAME = \"Tower-Babel/Babel-9B-Chat\"\n",
    "LANGUAGE = \"English\"\n",
    "logit_lens = LogitLens(LANGUAGE, MODEL_NAME, output_type=\"ffn_hidden_states\", retreival_type=\"cumulative\")\n",
    "MODEL_NAME = MODEL_NAME.split(\"/\")[-1]\n",
    "layers_original, rates_original, layers_typo, rates_typo = logit_lens.run(\n",
    "    path1 = f\"/home/hyujang/multilingual-inner-lexicon/data/RQ1/WordIdentity/single_token_splitted_{MODEL_NAME}_{LANGUAGE}_v2.csv\",\n",
    "    path2 = f\"/home/hyujang/multilingual-inner-lexicon/data/RQ1/WordIdentity/single_token_typos_{MODEL_NAME}_{LANGUAGE}_v2.csv\",\n",
    "    vis=True,\n",
    "    # save=True\n",
    ")"
   ]
  },
  {
   "cell_type": "code",
   "execution_count": null,
   "id": "2",
   "metadata": {},
   "outputs": [],
   "source": [
    "MODEL_NAME = \"Tower-Babel/Babel-9B-Chat\"\n",
    "LANGUAGE = \"German\"\n",
    "logit_lens = LogitLens(LANGUAGE, MODEL_NAME, output_type=\"ffn_hidden_states\", retreival_type=\"cumulative\")\n",
    "MODEL_NAME = MODEL_NAME.split(\"/\")[-1]\n",
    "layers_original, rates_original, layers_typo, rates_typo = logit_lens.run(\n",
    "    path1 = f\"/home/hyujang/multilingual-inner-lexicon/data/RQ1/WordIdentity/single_token_splitted_{MODEL_NAME}_{LANGUAGE}_v2.csv\",\n",
    "    path2 = f\"/home/hyujang/multilingual-inner-lexicon/data/RQ1/WordIdentity/single_token_typos_{MODEL_NAME}_{LANGUAGE}_v2.csv\",\n",
    "    vis=True,\n",
    "    save=True\n",
    ")"
   ]
  },
  {
   "cell_type": "code",
   "execution_count": null,
   "id": "3",
   "metadata": {},
   "outputs": [],
   "source": [
    "MODEL_NAME = \"google/gemma-3-12b-it\"\n",
    "LANGUAGE = \"English\"\n",
    "logit_lens = LogitLens(LANGUAGE, MODEL_NAME, output_type=\"ffn_hidden_states\", retreival_type=\"cumulative\")\n",
    "MODEL_NAME = MODEL_NAME.split(\"/\")[-1]\n",
    "layers_original, rates_original, layers_typo, rates_typo = logit_lens.run(\n",
    "    path1 = f\"/home/hyujang/multilingual-inner-lexicon/data/RQ1/WordIdentity/single_token_splitted_{MODEL_NAME}_{LANGUAGE}_v2.csv\",\n",
    "    path2 = f\"/home/hyujang/multilingual-inner-lexicon/data/RQ1/WordIdentity/single_token_typos_{MODEL_NAME}_{LANGUAGE}_v2.csv\",\n",
    "    vis=True,\n",
    "    save=True\n",
    ")"
   ]
  },
  {
   "cell_type": "code",
   "execution_count": null,
   "id": "4",
   "metadata": {},
   "outputs": [],
   "source": [
    "MODEL_NAME = \"google/gemma-3-12b-it\"\n",
    "LANGUAGE = \"German\"\n",
    "logit_lens = LogitLens(LANGUAGE, MODEL_NAME, output_type=\"ffn_hidden_states\", retreival_type=\"cumulative\")\n",
    "MODEL_NAME = MODEL_NAME.split(\"/\")[-1]\n",
    "layers_original, rates_original, layers_typo, rates_typo = logit_lens.run(\n",
    "    path1 = f\"/home/hyujang/multilingual-inner-lexicon/data/RQ1/WordIdentity/single_token_splitted_{MODEL_NAME}_{LANGUAGE}_v2.csv\",\n",
    "    path2 = f\"/home/hyujang/multilingual-inner-lexicon/data/RQ1/WordIdentity/single_token_typos_{MODEL_NAME}_{LANGUAGE}_v2.csv\",\n",
    "    vis=True,\n",
    "    save=False\n",
    ")"
   ]
  },
  {
   "cell_type": "code",
   "execution_count": null,
   "id": "5",
   "metadata": {},
   "outputs": [],
   "source": [
    "MODEL_NAME = \"meta-llama/Llama-2-7b-chat-hf\"\n",
    "LANGUAGE = \"English\"\n",
    "logit_lens = LogitLens(LANGUAGE, MODEL_NAME, output_type=\"ffn_hidden_states\", retreival_type=\"cumulative\")\n",
    "MODEL_NAME = MODEL_NAME.split(\"/\")[-1]\n",
    "layers_original, rates_original, layers_typo, rates_typo = logit_lens.run(\n",
    "    path1 = f\"/home/hyujang/multilingual-inner-lexicon/data/RQ1/WordIdentity/single_token_splitted_{MODEL_NAME}_{LANGUAGE}_v2.csv\",\n",
    "    path2 = f\"/home/hyujang/multilingual-inner-lexicon/data/RQ1/WordIdentity/single_token_typos_{MODEL_NAME}_{LANGUAGE}_v2.csv\",\n",
    "    vis=True,\n",
    "    save=True\n",
    ")"
   ]
  },
  {
   "cell_type": "code",
   "execution_count": null,
   "id": "6",
   "metadata": {},
   "outputs": [],
   "source": [
    "MODEL_NAME = \"meta-llama/Llama-2-7b-chat-hf\"\n",
    "LANGUAGE = \"German\"\n",
    "logit_lens = LogitLens(LANGUAGE, MODEL_NAME, output_type=\"ffn_hidden_states\", retreival_type=\"cumulative\")\n",
    "MODEL_NAME = MODEL_NAME.split(\"/\")[-1]\n",
    "layers_original, rates_original, layers_typo, rates_typo = logit_lens.run(\n",
    "    path1 = f\"/home/hyujang/multilingual-inner-lexicon/data/RQ1/WordIdentity/single_token_splitted_{MODEL_NAME}_{LANGUAGE}_v2.csv\",\n",
    "    path2 = f\"/home/hyujang/multilingual-inner-lexicon/data/RQ1/WordIdentity/single_token_typos_{MODEL_NAME}_{LANGUAGE}_v2.csv\",\n",
    "    vis=True,\n",
    "    save=False\n",
    ")"
   ]
  }
 ],
 "metadata": {
  "kernelspec": {
   "display_name": "thesis",
   "language": "python",
   "name": "python3"
  },
  "language_info": {
   "codemirror_mode": {
    "name": "ipython",
    "version": 3
   },
   "file_extension": ".py",
   "mimetype": "text/x-python",
   "name": "python",
   "nbconvert_exporter": "python",
   "pygments_lexer": "ipython3",
   "version": "3.12.9"
  }
 },
 "nbformat": 4,
 "nbformat_minor": 5
}
