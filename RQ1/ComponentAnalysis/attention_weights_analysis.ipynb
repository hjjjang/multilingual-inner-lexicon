{
 "cells": [
  {
   "cell_type": "code",
   "execution_count": 1,
   "id": "d3f66863",
   "metadata": {},
   "outputs": [
    {
     "name": "stdout",
     "output_type": "stream",
     "text": [
      "File: /home/hyujang/multilingual-inner-lexicon/output/RQ1/ComponentAnalysis/attention_weights/gemma-3-12b-it_German_2token.csv, Shape: (5605, 51)\n",
      "File: /home/hyujang/multilingual-inner-lexicon/output/RQ1/ComponentAnalysis/attention_weights/gemma-3-12b-it_English_2token.csv, Shape: (2488, 51)\n",
      "File: /home/hyujang/multilingual-inner-lexicon/output/RQ1/ComponentAnalysis/attention_weights/Babel-9B-Chat_German_2token.csv, Shape: (3131, 37)\n",
      "File: /home/hyujang/multilingual-inner-lexicon/output/RQ1/ComponentAnalysis/attention_weights/Llama-2-7b-chat-hf_German_2token.csv, Shape: (9469, 35)\n",
      "File: /home/hyujang/multilingual-inner-lexicon/output/RQ1/ComponentAnalysis/attention_weights/Llama-2-7b-chat-hf_English_2token.csv, Shape: (6837, 35)\n",
      "File: /home/hyujang/multilingual-inner-lexicon/output/RQ1/ComponentAnalysis/attention_weights/Babel-9B-Chat_Korean_2token.csv, Shape: (8972, 37)\n",
      "File: /home/hyujang/multilingual-inner-lexicon/output/RQ1/ComponentAnalysis/attention_weights/gemma-3-12b-it_Korean_2token.csv, Shape: (8998, 51)\n",
      "File: /home/hyujang/multilingual-inner-lexicon/output/RQ1/ComponentAnalysis/attention_weights/Babel-9B-Chat_English_2token.csv, Shape: (3424, 37)\n",
      "File: /home/hyujang/multilingual-inner-lexicon/output/RQ1/ComponentAnalysis/attention_weights/Llama-2-7b-chat-hf_Korean_2token.csv, Shape: (1467, 35)\n"
     ]
    }
   ],
   "source": [
    "# load dataset\n",
    "import pandas as pd\n",
    "import glob\n",
    "import os\n",
    "\n",
    "# Set your directory path here\n",
    "directory_path = \"/home/hyujang/multilingual-inner-lexicon/output/RQ1/ComponentAnalysis/attention_weights\"\n",
    "\n",
    "# Find all CSV files ending with \"_2token.csv\"\n",
    "csv_files = glob.glob(os.path.join(directory_path, \"*_2token.csv\"))\n",
    "\n",
    "# Load and concatenate all DataFrames\n",
    "# df_list = [pd.read_csv(file) for file in csv_files]\n",
    "for file in csv_files:\n",
    "    df = pd.read_csv(file)\n",
    "    print(f\"File: {file}, Shape: {df.shape}\")\n",
    "\n",
    "# filter the "
   ]
  },
  {
   "cell_type": "code",
   "execution_count": null,
   "id": "a3d0cf6d",
   "metadata": {},
   "outputs": [],
   "source": [
    "import matplotlib.pyplot as plt\n",
    "import pandas as pd\n",
    "\n",
    "# Load the attention weights DataFrame\n",
    "attn_df = pd.read_csv(f\"/home/hyujang/multilingual-inner-lexicon/output/RQ1/ComponentAnalysis/attention_weights/{MODEL_NAME.split('/')[-1]}_{LANGUAGE}_all.csv\")\n",
    "\n",
    "# Extract layer-wise attention columns\n",
    "layer_columns = [col for col in attn_df.columns if col.startswith(\"layer_\")]\n",
    "\n",
    "# Compute the average attention weight for each layer\n",
    "avg_attn_weights = attn_df[layer_columns].mean()\n",
    "\n",
    "# Plot the average attention weights\n",
    "plt.figure(figsize=(10, 6))\n",
    "plt.plot(range(1, len(avg_attn_weights) + 1), avg_attn_weights, marker='o', linestyle='-', color='b')\n",
    "plt.title(f\"Average Attention Weights Across Layers ({MODEL_NAME}, {LANGUAGE})\", fontsize=14)\n",
    "plt.xlabel(\"Layer\", fontsize=12)\n",
    "plt.ylabel(\"Average Attention Weight\", fontsize=12)\n",
    "plt.xticks(range(1, len(avg_attn_weights) + 1))  # Ensure x-axis ticks match layer numbers\n",
    "plt.grid(True)\n",
    "plt.show()"
   ]
  }
 ],
 "metadata": {
  "kernelspec": {
   "display_name": "THESIS",
   "language": "python",
   "name": "thesis"
  },
  "language_info": {
   "codemirror_mode": {
    "name": "ipython",
    "version": 3
   },
   "file_extension": ".py",
   "mimetype": "text/x-python",
   "name": "python",
   "nbconvert_exporter": "python",
   "pygments_lexer": "ipython3",
   "version": "3.12.9"
  }
 },
 "nbformat": 4,
 "nbformat_minor": 5
}
