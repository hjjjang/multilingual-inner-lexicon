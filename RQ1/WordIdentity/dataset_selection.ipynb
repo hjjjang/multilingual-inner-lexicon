{
 "cells": [
  {
   "cell_type": "code",
   "execution_count": null,
   "id": "031d5ce3",
   "metadata": {},
   "outputs": [],
   "source": [
    "import pandas as pd\n",
    "\n",
    "url = \"https://raw.githubusercontent.com/olastor/german-word-frequencies/refs/heads/main/opensubtitles/opensubtitles_cistem_freq.csv\"\n",
    "df = pd.read_csv(url)\n",
    "# df.to_csv(\"opensubtitles_cistem_freq.csv\", index=False)  # Save it locally if needed\n",
    "df.sort_values(by=\"freq\", ascending=False, inplace=True)\n"
   ]
  },
  {
   "cell_type": "code",
   "execution_count": 6,
   "id": "79639e19",
   "metadata": {},
   "outputs": [
    {
     "name": "stdout",
     "output_type": "stream",
     "text": [
      "Using device: cuda\n"
     ]
    },
    {
     "data": {
      "application/vnd.jupyter.widget-view+json": {
       "model_id": "a13a458f5b5c4b86ae78c37a8b377599",
       "version_major": 2,
       "version_minor": 0
      },
      "text/plain": [
       "Loading checkpoint shards:   0%|          | 0/4 [00:00<?, ?it/s]"
      ]
     },
     "metadata": {},
     "output_type": "display_data"
    },
    {
     "name": "stderr",
     "output_type": "stream",
     "text": [
      "Some parameters are on the meta device because they were offloaded to the cpu.\n"
     ]
    }
   ],
   "source": [
    "import sys\n",
    "import os\n",
    "# Add the RQ1 directory to the path\n",
    "sys.path.append(os.path.abspath(\"../\"))\n",
    "from classification import WordNonwordClassifier\n",
    "\n",
    "# model_name = \"google/gemma-3-12b-it\"\n",
    "# model_name = \"google/gemma-3-12b-pt\"\n",
    "# model_name = \"meta-llama/Llama-2-7b-chat-hf\"\n",
    "model_name = \"Tower-Babel/Babel-9B-Chat\"\n",
    "word_nonword_cls = WordNonwordClassifier(\"English\", model_name) # language is not used in the model name, but it is required by the class"
   ]
  },
  {
   "cell_type": "code",
   "execution_count": 11,
   "id": "8290040d",
   "metadata": {},
   "outputs": [
    {
     "name": "stderr",
     "output_type": "stream",
     "text": [
      "100%|██████████| 948638/948638 [00:24<00:00, 38419.19it/s]\n"
     ]
    }
   ],
   "source": [
    "from tqdm import tqdm\n",
    "tokenized_words = []\n",
    "for word in tqdm(df['word']):\n",
    "    if pd.isna(word):\n",
    "        tokenized_words.append([])  # or ['<unk>'], or skip, depending on your use case\n",
    "    else:\n",
    "        word_str = str(word)\n",
    "        tokens = word_nonword_cls.tokenizer.tokenize(word_str)\n",
    "        tokenized_words.append(tokens)\n",
    "df['word_tokens'] = tokenized_words\n",
    "df.to_csv(\"opensubtitles_cistem_freq.csv\", index=False)  # Save it locally if needed"
   ]
  },
  {
   "cell_type": "code",
   "execution_count": null,
   "id": "5518341a",
   "metadata": {},
   "outputs": [],
   "source": [
    "import pandas as pd\n",
    "df = pd.read_csv(\"opensubtitles_cistem_freq.csv\")"
   ]
  },
  {
   "cell_type": "code",
   "execution_count": 15,
   "id": "ab15d504",
   "metadata": {},
   "outputs": [
    {
     "data": {
      "text/plain": [
       "word_toens_len\n",
       "3     242256\n",
       "4     241229\n",
       "5     167613\n",
       "2     132376\n",
       "6      90097\n",
       "7      39914\n",
       "8      16570\n",
       "9       7024\n",
       "1       6665\n",
       "10      2910\n",
       "11      1128\n",
       "12       485\n",
       "13       191\n",
       "14        89\n",
       "15        38\n",
       "16        23\n",
       "17         7\n",
       "19         4\n",
       "20         4\n",
       "22         3\n",
       "18         3\n",
       "0          2\n",
       "25         2\n",
       "83         1\n",
       "28         1\n",
       "38         1\n",
       "32         1\n",
       "21         1\n",
       "Name: count, dtype: int64"
      ]
     },
     "execution_count": 15,
     "metadata": {},
     "output_type": "execute_result"
    }
   ],
   "source": [
    "df['word_toens_len'] = df['word_tokens'].apply(lambda x: len(ast.literal_eval(x)))\n",
    "df['word_toens_len'].value_counts()"
   ]
  },
  {
   "cell_type": "code",
   "execution_count": 35,
   "id": "50f7391a",
   "metadata": {},
   "outputs": [
    {
     "name": "stderr",
     "output_type": "stream",
     "text": [
      "2025-06-07 12:06:37 INFO: Checking for updates to resources.json in case models have been updated.  Note: this behavior can be turned off with download_method=None or download_method=DownloadMethod.REUSE_RESOURCES\n"
     ]
    },
    {
     "data": {
      "application/vnd.jupyter.widget-view+json": {
       "model_id": "ec75e7d17aae4f1097762fd36c60b812",
       "version_major": 2,
       "version_minor": 0
      },
      "text/plain": [
       "Downloading https://raw.githubusercontent.com/stanfordnlp/stanza-resources/main/resources_1.10.0.json:   0%|  …"
      ]
     },
     "metadata": {},
     "output_type": "display_data"
    },
    {
     "name": "stderr",
     "output_type": "stream",
     "text": [
      "2025-06-07 12:06:37 INFO: Downloaded file to /home/hyujang/stanza_resources/resources.json\n",
      "2025-06-07 12:06:37 WARNING: Language de package default expects mwt, which has been added\n",
      "2025-06-07 12:06:37 INFO: Loading these models for language: de (German):\n",
      "=================================\n",
      "| Processor | Package           |\n",
      "---------------------------------\n",
      "| tokenize  | combined          |\n",
      "| mwt       | combined          |\n",
      "| pos       | combined_charlm   |\n",
      "| lemma     | combined_nocharlm |\n",
      "=================================\n",
      "\n",
      "2025-06-07 12:06:37 INFO: Using device: cuda\n",
      "2025-06-07 12:06:37 INFO: Loading: tokenize\n",
      "2025-06-07 12:06:37 INFO: Loading: mwt\n",
      "2025-06-07 12:06:37 INFO: Loading: pos\n",
      "2025-06-07 12:06:39 INFO: Loading: lemma\n",
      "2025-06-07 12:06:45 INFO: Done loading processors!\n"
     ]
    }
   ],
   "source": [
    "import stanza\n",
    "nlp = stanza.Pipeline(lang=\"de\", processors=\"tokenize,pos,lemma\", use_gpu=True)  # Initialize Stanza pipeline"
   ]
  },
  {
   "cell_type": "code",
   "execution_count": 36,
   "id": "d33eb562",
   "metadata": {},
   "outputs": [],
   "source": [
    "from tqdm import tqdm\n",
    "df_single_token = df[(df['word_toens_len']==1) & (df['freq'] != 1)].reset_index(drop=True)\n",
    "stanza_results = []\n",
    "for word in tqdm(df_single_token['word']):\n",
    "    try:\n",
    "        doc = nlp(word)\n",
    "        stanza_results.append(doc.sentences)\n",
    "    except Exception as e:\n",
    "        print(f\"Error processing word '{word}': {e}\")\n",
    "        stanza_results.append(None)\n",
    "df_single_token['stanza'] = stanza_results"
   ]
  },
  {
   "cell_type": "code",
   "execution_count": null,
   "id": "aa3d513a",
   "metadata": {},
   "outputs": [
    {
     "data": {
      "text/plain": [
       "stanza\n",
       "1    6151\n",
       "Name: count, dtype: int64"
      ]
     },
     "execution_count": 40,
     "metadata": {},
     "output_type": "execute_result"
    }
   ],
   "source": [
    "print(df_single_token['stanza'].apply(len).value_counts())\n",
    "df_single_token['upos_first'] = df_single_token['stanza'].apply(\n",
    "    lambda sent_list: sent_list[0].words[0].upos if sent_list and sent_list[0].words else None\n",
    ")\n",
    "df_single_token = df_single_token[~df_single_token['word'].str.contains(r'[^a-zA-ZäöüÄÖÜß]', na=False)]"
   ]
  },
  {
   "cell_type": "code",
   "execution_count": 98,
   "id": "49f4d6f4",
   "metadata": {},
   "outputs": [
    {
     "data": {
      "text/plain": [
       "upos_first\n",
       "X        3072\n",
       "PROPN    1712\n",
       "NOUN      636\n",
       "ADJ       414\n",
       "VERB      130\n",
       "ADV        64\n",
       "PUNCT      28\n",
       "ADP        27\n",
       "PRON       20\n",
       "NUM        14\n",
       "INTJ       14\n",
       "AUX         9\n",
       "DET         7\n",
       "CCONJ       3\n",
       "SCONJ       1\n",
       "Name: count, dtype: int64"
      ]
     },
     "execution_count": 98,
     "metadata": {},
     "output_type": "execute_result"
    }
   ],
   "source": [
    "df_single_token['upos_first'].value_counts()"
   ]
  },
  {
   "cell_type": "code",
   "execution_count": 115,
   "id": "49bbcc0f",
   "metadata": {},
   "outputs": [],
   "source": [
    "lang = \"German\"\n",
    "model_name = \"Tower-Babel/Babel-9B-Chat\"\n",
    "df_single_token[~df_single_token['upos_first'].isin([\"PROPN\",\"X\"])].reset_index(drop=True).to_csv(f\"/home/hyujang/multilingual-inner-lexicon/data/RQ1/WordIdentity/opensubtitles_single_token_list_{model_name.split('/')[-1]}_{lang}.csv\", index=False)"
   ]
  }
 ],
 "metadata": {
  "kernelspec": {
   "display_name": "thesis",
   "language": "python",
   "name": "python3"
  },
  "language_info": {
   "codemirror_mode": {
    "name": "ipython",
    "version": 3
   },
   "file_extension": ".py",
   "mimetype": "text/x-python",
   "name": "python",
   "nbconvert_exporter": "python",
   "pygments_lexer": "ipython3",
   "version": "3.12.9"
  }
 },
 "nbformat": 4,
 "nbformat_minor": 5
}
