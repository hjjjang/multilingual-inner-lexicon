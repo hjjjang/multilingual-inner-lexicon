{
 "cells": [
  {
   "cell_type": "code",
   "execution_count": null,
   "id": "0",
   "metadata": {},
   "outputs": [],
   "source": [
    "import pandas as pd\n",
    "\n",
    "url = \"https://raw.githubusercontent.com/olastor/german-word-frequencies/refs/heads/main/opensubtitles/opensubtitles_cistem_freq.csv\"\n",
    "df = pd.read_csv(url)\n",
    "# df.to_csv(\"opensubtitles_cistem_freq.csv\", index=False)  # Save it locally if needed\n",
    "df.sort_values(by=\"freq\", ascending=False, inplace=True)\n"
   ]
  },
  {
   "cell_type": "code",
   "execution_count": null,
   "id": "1",
   "metadata": {},
   "outputs": [],
   "source": [
    "import sys\n",
    "import os\n",
    "# Add the RQ1 directory to the path\n",
    "sys.path.append(os.path.abspath(\"../\"))\n",
    "from ..WordNonword.classification import WordNonwordClassifier\n",
    "\n",
    "# model_name = \"google/gemma-3-12b-it\"\n",
    "# model_name = \"google/gemma-3-12b-pt\"\n",
    "# model_name = \"meta-llama/Llama-2-7b-chat-hf\"\n",
    "model_name = \"Tower-Babel/Babel-9B-Chat\"\n",
    "word_nonword_cls = WordNonwordClassifier(\"English\", model_name) # language is not used in the model name, but it is required by the class"
   ]
  },
  {
   "cell_type": "code",
   "execution_count": null,
   "id": "2",
   "metadata": {},
   "outputs": [],
   "source": [
    "from tqdm import tqdm\n",
    "tokenized_words = []\n",
    "for word in tqdm(df['word']):\n",
    "    if pd.isna(word):\n",
    "        tokenized_words.append([])  # or ['<unk>'], or skip, depending on your use case\n",
    "    else:\n",
    "        word_str = str(word)\n",
    "        tokens = word_nonword_cls.tokenizer.tokenize(word_str)\n",
    "        tokenized_words.append(tokens)\n",
    "df['word_tokens'] = tokenized_words\n",
    "df.to_csv(\"opensubtitles_cistem_freq.csv\", index=False)  # Save it locally if needed"
   ]
  },
  {
   "cell_type": "code",
   "execution_count": null,
   "id": "3",
   "metadata": {},
   "outputs": [],
   "source": [
    "import pandas as pd\n",
    "df = pd.read_csv(\"opensubtitles_cistem_freq.csv\")"
   ]
  },
  {
   "cell_type": "code",
   "execution_count": null,
   "id": "4",
   "metadata": {},
   "outputs": [],
   "source": [
    "df['word_toens_len'] = df['word_tokens'].apply(lambda x: len(ast.literal_eval(x)))\n",
    "df['word_toens_len'].value_counts()"
   ]
  },
  {
   "cell_type": "code",
   "execution_count": null,
   "id": "5",
   "metadata": {},
   "outputs": [],
   "source": [
    "import stanza\n",
    "nlp = stanza.Pipeline(lang=\"de\", processors=\"tokenize,pos,lemma\", use_gpu=True)  # Initialize Stanza pipeline"
   ]
  },
  {
   "cell_type": "code",
   "execution_count": null,
   "id": "6",
   "metadata": {},
   "outputs": [],
   "source": [
    "from tqdm import tqdm\n",
    "df_single_token = df[(df['word_toens_len']==1) & (df['freq'] != 1)].reset_index(drop=True)\n",
    "stanza_results = []\n",
    "for word in tqdm(df_single_token['word']):\n",
    "    try:\n",
    "        doc = nlp(word)\n",
    "        stanza_results.append(doc.sentences)\n",
    "    except Exception as e:\n",
    "        print(f\"Error processing word '{word}': {e}\")\n",
    "        stanza_results.append(None)\n",
    "df_single_token['stanza'] = stanza_results"
   ]
  },
  {
   "cell_type": "code",
   "execution_count": null,
   "id": "7",
   "metadata": {},
   "outputs": [],
   "source": [
    "print(df_single_token['stanza'].apply(len).value_counts())\n",
    "df_single_token['upos_first'] = df_single_token['stanza'].apply(\n",
    "    lambda sent_list: sent_list[0].words[0].upos if sent_list and sent_list[0].words else None\n",
    ")\n",
    "df_single_token = df_single_token[~df_single_token['word'].str.contains(r'[^a-zA-ZäöüÄÖÜß]', na=False)]"
   ]
  },
  {
   "cell_type": "code",
   "execution_count": null,
   "id": "8",
   "metadata": {},
   "outputs": [],
   "source": [
    "df_single_token['upos_first'].value_counts()"
   ]
  },
  {
   "cell_type": "code",
   "execution_count": null,
   "id": "9",
   "metadata": {},
   "outputs": [],
   "source": [
    "lang = \"German\"\n",
    "model_name = \"Tower-Babel/Babel-9B-Chat\"\n",
    "df_single_token[~df_single_token['upos_first'].isin([\"PROPN\",\"X\"])].reset_index(drop=True).to_csv(f\"/home/hyujang/multilingual-inner-lexicon/data/RQ1/WordIdentity/opensubtitles_single_token_list_{model_name.split('/')[-1]}_{lang}.csv\", index=False)"
   ]
  }
 ],
 "metadata": {
  "kernelspec": {
   "display_name": "thesis",
   "language": "python",
   "name": "python3"
  },
  "language_info": {
   "codemirror_mode": {
    "name": "ipython",
    "version": 3
   },
   "file_extension": ".py",
   "mimetype": "text/x-python",
   "name": "python",
   "nbconvert_exporter": "python",
   "pygments_lexer": "ipython3",
   "version": "3.12.9"
  }
 },
 "nbformat": 4,
 "nbformat_minor": 5
}
