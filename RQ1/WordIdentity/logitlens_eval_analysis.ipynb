{
 "cells": [
  {
   "cell_type": "code",
   "execution_count": null,
   "id": "0",
   "metadata": {},
   "outputs": [],
   "source": [
    "import os\n",
    "os.environ[\"CUDA_VISIBLE_DEVICES\"] = \"0\"\n",
    "\n",
    "from logitlens import LogitLens\n",
    "import pandas as pd\n",
    "import matplotlib.pyplot as plt\n",
    "import ast"
   ]
  },
  {
   "cell_type": "code",
   "execution_count": null,
   "id": "1",
   "metadata": {},
   "outputs": [],
   "source": [
    "MODEL_NAME = \"Tower-Babel/Babel-9B-Chat\"\n",
    "LANGUAGE = \"English\"\n",
    "logit_lens = LogitLens(LANGUAGE, MODEL_NAME)\n",
    "MODEL_NAME = MODEL_NAME.split(\"/\")[-1]\n",
    "layers_original, rates_original, layers_typo, rates_typo = logit_lens.run(\n",
    "    path1 = f\"/home/hyujang/multilingual-inner-lexicon/data/RQ1/WordIdentity/single_token_splitted_{MODEL_NAME}_{LANGUAGE}_v2.csv\",\n",
    "    path2 = f\"/home/hyujang/multilingual-inner-lexicon/data/RQ1/WordIdentity/single_token_typos_{MODEL_NAME}_{LANGUAGE}_v2.csv\",\n",
    "    vis=True,\n",
    "    save=True\n",
    ")"
   ]
  },
  {
   "cell_type": "code",
   "execution_count": null,
   "id": "2",
   "metadata": {},
   "outputs": [],
   "source": [
    "MODEL_NAME = \"Tower-Babel/Babel-9B-Chat\"\n",
    "LANGUAGE = \"German\"\n",
    "logit_lens = LogitLens(LANGUAGE, MODEL_NAME)\n",
    "MODEL_NAME = MODEL_NAME.split(\"/\")[-1]\n",
    "layers_original, rates_original, layers_typo, rates_typo = logit_lens.run(\n",
    "    path1 = f\"/home/hyujang/multilingual-inner-lexicon/data/RQ1/WordIdentity/single_token_splitted_{MODEL_NAME}_{LANGUAGE}_v2.csv\",\n",
    "    path2 = f\"/home/hyujang/multilingual-inner-lexicon/data/RQ1/WordIdentity/single_token_typos_{MODEL_NAME}_{LANGUAGE}_v2.csv\",\n",
    "    vis=True,\n",
    "    save=True\n",
    ")"
   ]
  },
  {
   "cell_type": "code",
   "execution_count": null,
   "id": "3",
   "metadata": {},
   "outputs": [],
   "source": [
    "# testing with lm head instea of embedding\n",
    "MODEL_NAME = \"google/gemma-3-12b-it\"\n",
    "LANGUAGE = \"English\"\n",
    "logit_lens = LogitLens(LANGUAGE, MODEL_NAME)\n",
    "MODEL_NAME = MODEL_NAME.split(\"/\")[-1]\n",
    "layers_original, rates_original, layers_typo, rates_typo = logit_lens.run(\n",
    "    path1 = f\"/home/hyujang/multilingual-inner-lexicon/data/RQ1/WordIdentity/single_token_splitted_{MODEL_NAME}_{LANGUAGE}_v2.csv\",\n",
    "    path2 = f\"/home/hyujang/multilingual-inner-lexicon/data/RQ1/WordIdentity/single_token_typos_{MODEL_NAME}_{LANGUAGE}_v2.csv\",\n",
    "    vis=True,\n",
    "    save=True\n",
    ")"
   ]
  },
  {
   "cell_type": "code",
   "execution_count": null,
   "id": "4",
   "metadata": {},
   "outputs": [],
   "source": [
    "MODEL_NAME = \"google/gemma-3-12b-it\"\n",
    "LANGUAGE = \"English\"\n",
    "logit_lens = LogitLens(LANGUAGE, MODEL_NAME)\n",
    "MODEL_NAME = MODEL_NAME.split(\"/\")[-1]\n",
    "layers_original, rates_original, layers_typo, rates_typo = logit_lens.run(\n",
    "    path1 = f\"/home/hyujang/multilingual-inner-lexicon/data/RQ1/WordIdentity/single_token_splitted_{MODEL_NAME}_{LANGUAGE}_v2.csv\",\n",
    "    path2 = f\"/home/hyujang/multilingual-inner-lexicon/data/RQ1/WordIdentity/single_token_typos_{MODEL_NAME}_{LANGUAGE}_v2.csv\",\n",
    "    vis=True,\n",
    "    save=True\n",
    ")"
   ]
  },
  {
   "cell_type": "code",
   "execution_count": null,
   "id": "5",
   "metadata": {},
   "outputs": [],
   "source": [
    "MODEL_NAME = \"google/gemma-3-12b-it\"\n",
    "LANGUAGE = \"German\"\n",
    "logit_lens = LogitLens(LANGUAGE, MODEL_NAME)\n",
    "MODEL_NAME = MODEL_NAME.split(\"/\")[-1]\n",
    "layers_original, rates_original, layers_typo, rates_typo = logit_lens.run(\n",
    "    path1 = f\"/home/hyujang/multilingual-inner-lexicon/data/RQ1/WordIdentity/single_token_splitted_{MODEL_NAME}_{LANGUAGE}_v2.csv\",\n",
    "    path2 = f\"/home/hyujang/multilingual-inner-lexicon/data/RQ1/WordIdentity/single_token_typos_{MODEL_NAME}_{LANGUAGE}_v2.csv\",\n",
    "    vis=True,\n",
    "    save=True\n",
    ")"
   ]
  },
  {
   "cell_type": "code",
   "execution_count": null,
   "id": "6",
   "metadata": {},
   "outputs": [],
   "source": [
    "MODEL_NAME = \"meta-llama/Llama-2-7b-chat-hf\"\n",
    "LANGUAGE = \"English\"\n",
    "logit_lens = LogitLens(LANGUAGE, MODEL_NAME)\n",
    "MODEL_NAME = MODEL_NAME.split(\"/\")[-1]\n",
    "layers_original, rates_original, layers_typo, rates_typo = logit_lens.run(\n",
    "    path1 = f\"/home/hyujang/multilingual-inner-lexicon/data/RQ1/WordIdentity/single_token_splitted_{MODEL_NAME}_{LANGUAGE}_v2.csv\",\n",
    "    path2 = f\"/home/hyujang/multilingual-inner-lexicon/data/RQ1/WordIdentity/single_token_typos_{MODEL_NAME}_{LANGUAGE}_v2.csv\",\n",
    "    vis=True,\n",
    "    save=True\n",
    ")"
   ]
  },
  {
   "cell_type": "code",
   "execution_count": null,
   "id": "7",
   "metadata": {},
   "outputs": [],
   "source": [
    "MODEL_NAME = \"meta-llama/Llama-2-7b-chat-hf\"\n",
    "LANGUAGE = \"German\"\n",
    "logit_lens = LogitLens(LANGUAGE, MODEL_NAME)\n",
    "MODEL_NAME = MODEL_NAME.split(\"/\")[-1]\n",
    "layers_original, rates_original, layers_typo, rates_typo = logit_lens.run(\n",
    "    path1 = f\"/home/hyujang/multilingual-inner-lexicon/data/RQ1/WordIdentity/single_token_splitted_{MODEL_NAME}_{LANGUAGE}_v2.csv\",\n",
    "    path2 = f\"/home/hyujang/multilingual-inner-lexicon/data/RQ1/WordIdentity/single_token_typos_{MODEL_NAME}_{LANGUAGE}_v2.csv\",\n",
    "    vis=True,\n",
    "    save=True\n",
    ")"
   ]
  },
  {
   "cell_type": "code",
   "execution_count": null,
   "id": "8",
   "metadata": {},
   "outputs": [],
   "source": [
    "import gc\n",
    "import torch\n",
    "torch.cuda.empty_cache()\n",
    "gc.collect()"
   ]
  },
  {
   "cell_type": "markdown",
   "id": "9",
   "metadata": {},
   "source": [
    "# Load Output File and Visualize"
   ]
  },
  {
   "cell_type": "code",
   "execution_count": null,
   "id": "10",
   "metadata": {},
   "outputs": [],
   "source": [
    "# Define colors for each model\n",
    "model_colors = {\n",
    "    \"Babel-9B-Chat\": \"#66c2a5\",\n",
    "    \"gemma-3-12b-it\": \"#fc8d62\",\n",
    "    \"Llama-2-7b-chat-hf\": \"#e78ac3\"\n",
    "}\n",
    "\n",
    "# Define colors for each language\n",
    "language_colors = {\n",
    "    \"English\": \"#1f77b4\",\n",
    "    \"German\": \"#ff7f0e\",\n",
    "    \"Korean\": \"#2ca02c\"\n",
    "}\n",
    "\n",
    "# Define line styles for each model\n",
    "model_styles = {\n",
    "    \"Babel-9B-Chat\": \"-\",\n",
    "    \"gemma-3-12b-it\": \"--\",\n",
    "    \"Llama-2-7b-chat-hf\": \":\"\n",
    "}\n",
    "\n",
    "languague_styles = {\n",
    "    \"English\": \"-\",\n",
    "    \"Korean\": \"--\",\n",
    "    \"German\": \":\"\n",
    "}"
   ]
  },
  {
   "cell_type": "code",
   "execution_count": null,
   "id": "11",
   "metadata": {},
   "outputs": [],
   "source": [
    "import pandas as pd\n",
    "import matplotlib.pyplot as plt\n",
    "from logitlens import get_retrieval_rates, get_cumulative_retrieval_rates\n",
    "import ast"
   ]
  },
  {
   "cell_type": "code",
   "execution_count": null,
   "id": "12",
   "metadata": {},
   "outputs": [],
   "source": [
    "# Create a grid of subplots (2 rows for languages, 3 columns for models)\n",
    "fig, axes = plt.subplots(2, 3, figsize=(18, 10), sharex=False, sharey=True)\n",
    "\n",
    "for col_idx, model_name in enumerate(model_colors.keys()):\n",
    "    for row_idx, language in enumerate([\"English\", \"German\"]):\n",
    "        # Load data\n",
    "        results_df_original = pd.read_csv(f\"/home/hyujang/multilingual-inner-lexicon/output/RQ1/WordIdentity/single_token_simple_split_{model_name}_{language}_v3.csv\")\n",
    "        results_df_typo = pd.read_csv(f\"/home/hyujang/multilingual-inner-lexicon/output/RQ1/WordIdentity/single_token_typo_split_{model_name}_{language}_v3.csv\")\n",
    "\n",
    "        # Convert columns starting with '[' to lists\n",
    "        for col in results_df_original.columns:\n",
    "            if results_df_original[col].astype(str).str.startswith(\"[\").any():\n",
    "                results_df_original[col] = results_df_original[col].apply(ast.literal_eval)\n",
    "        for col in results_df_typo.columns:\n",
    "            if results_df_typo[col].astype(str).str.startswith(\"[\").any():\n",
    "                results_df_typo[col] = results_df_typo[col].apply(ast.literal_eval)\n",
    "\n",
    "        # Calculate retrieval rates\n",
    "        layers_original, rates_original = get_retrieval_rates(results_df_original)\n",
    "        layers_typo, rates_typo = get_retrieval_rates(results_df_typo)\n",
    "\n",
    "        # Plot on the corresponding subplot\n",
    "        ax = axes[row_idx, col_idx]\n",
    "        ax.plot(layers_original, rates_original, marker='o', label='Splits', color=\"#adaf3d\", alpha=0.7)\n",
    "        ax.plot(layers_typo, rates_typo, marker='o', label='Typo Splits', color=\"#8c59bb\", alpha=0.7)\n",
    "\n",
    "        # Set title and labels\n",
    "        if row_idx == 0:\n",
    "            ax.set_title(model_name, fontsize=22)\n",
    "        if col_idx == 0:\n",
    "            ax.set_ylabel(f\"{language} Retrieval Rate (Top-3)\", fontsize=16)\n",
    "\n",
    "        ax.set_xlabel(\"Layer\", fontsize=16)\n",
    "        ax.tick_params(axis='both', which='major', labelsize=14)\n",
    "        ax.legend(fontsize=14)\n",
    "        ax.grid(True)\n",
    "\n",
    "        # Set x-axis range dynamically based on layers\n",
    "        ax.set_xlim([min(layers_original + layers_typo)-1, max(layers_original + layers_typo)+1])\n",
    "\n",
    "# Adjust layout\n",
    "plt.tight_layout()\n",
    "plt.show()"
   ]
  }
 ],
 "metadata": {
  "kernelspec": {
   "display_name": "thesis",
   "language": "python",
   "name": "python3"
  },
  "language_info": {
   "codemirror_mode": {
    "name": "ipython",
    "version": 3
   },
   "file_extension": ".py",
   "mimetype": "text/x-python",
   "name": "python",
   "nbconvert_exporter": "python",
   "pygments_lexer": "ipython3",
   "version": "3.12.9"
  }
 },
 "nbformat": 4,
 "nbformat_minor": 5
}
