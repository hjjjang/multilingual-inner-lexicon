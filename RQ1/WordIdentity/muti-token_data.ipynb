{
 "cells": [
  {
   "cell_type": "code",
   "execution_count": 5,
   "id": "e35ee67e",
   "metadata": {},
   "outputs": [],
   "source": [
    "import os\n",
    "import json\n",
    "import pandas as pd\n",
    "import random\n",
    "\n",
    "BASE_DIR = \"/home/hyujang/multilingual-inner-lexicon\"\n",
    "with open(os.path.join(BASE_DIR, \"RQ1/config.json\"), \"r\") as f:\n",
    "    CONFIG = json.load(f)\n",
    "\n",
    "# Configuration variables\n",
    "model_name_map = {\n",
    "    \"llama_2_7b\": \"Llama-2-7b-chat-hf\",\n",
    "    \"babel_9b\": \"Babel-9B-Chat\",\n",
    "    \"gemma_12b\": \"gemma-3-12b-it\"\n",
    "}\n",
    "\n",
    "MIN_WORD_LEN = 3\n",
    "MIN_JAMO_LEN = 2\n",
    "MIN_WORD_FREQ = CONFIG[\"min_freq\"]\n",
    "\n",
    "NUM_SAMPLES = 1000\n",
    "NUM_QUANTILES = CONFIG[\"num_quantiles\"]\n",
    "\n",
    "RANDOM_SEED = CONFIG[\"seed\"]\n",
    "random.seed(RANDOM_SEED)\n"
   ]
  },
  {
   "cell_type": "code",
   "execution_count": 6,
   "id": "1d3a9ccc",
   "metadata": {},
   "outputs": [],
   "source": [
    "def sample_by_freq(df):\n",
    "    df['freq_quantile'], bins = pd.qcut(df['freq'], NUM_QUANTILES, labels=False, duplicates='drop', retbins=True)\n",
    "    num_quantiles = df['freq_quantile'].nunique()\n",
    "    samples_per_quantile = NUM_SAMPLES // num_quantiles\n",
    "    \n",
    "    sampled = []\n",
    "    for quantile in range(num_quantiles):\n",
    "        quantile_df = df[df['freq_quantile'] == quantile]\n",
    "        if len(quantile_df) > 0:\n",
    "            sampled.append(quantile_df.sample(min(len(quantile_df), samples_per_quantile), replace=False, random_state=RANDOM_SEED))\n",
    "    sampled_df = pd.concat(sampled, ignore_index=False).drop_duplicates(subset=['word'])\n",
    "    \n",
    "    if len(sampled_df) < NUM_SAMPLES:\n",
    "        remaining = NUM_SAMPLES - len(sampled_df)\n",
    "        other_df = df.drop(sampled_df.index, errors='ignore')\n",
    "        print(f\"remaining: {remaining}, other_df: {len(other_df)}\")\n",
    "        additional_samples = other_df.sample(min(len(other_df), remaining), replace=False, random_state=RANDOM_SEED)\n",
    "        print(f\"additional_samples: {len(additional_samples)}\")\n",
    "        sampled_df = pd.concat([sampled_df, additional_samples]).drop_duplicates(subset=['word'])\n",
    "\n",
    "    print(f\"sampled_df: {len(sampled_df)}\")\n",
    "    \n",
    "    return sampled_df.reset_index(drop=True)"
   ]
  },
  {
   "cell_type": "markdown",
   "id": "6a13364c",
   "metadata": {},
   "source": [
    "## ENGLISH"
   ]
  },
  {
   "cell_type": "code",
   "execution_count": null,
   "id": "ec241f75",
   "metadata": {},
   "outputs": [
    {
     "name": "stdout",
     "output_type": "stream",
     "text": [
      "token_num_babel_9b\n",
      "2    8714\n",
      "3    3666\n",
      "4     680\n",
      "5      86\n",
      "6      21\n",
      "7       4\n",
      "8       1\n",
      "Name: count, dtype: int64\n",
      "sampled_df: 1000\n",
      "token_num_babel_9b\n",
      "2    0.629\n",
      "3    0.317\n",
      "4    0.048\n",
      "5    0.006\n",
      "Name: proportion, dtype: float64\n"
     ]
    },
    {
     "ename": "",
     "evalue": "",
     "output_type": "error",
     "traceback": [
      "\u001b[1;31mThe Kernel crashed while executing code in the current cell or a previous cell. \n",
      "\u001b[1;31mPlease review the code in the cell(s) to identify a possible cause of the failure. \n",
      "\u001b[1;31mClick <a href='https://aka.ms/vscodeJupyterKernelCrash'>here</a> for more info. \n",
      "\u001b[1;31mView Jupyter <a href='command:jupyter.viewOutput'>log</a> for further details."
     ]
    }
   ],
   "source": [
    "LANGUAGE = \"English\"\n",
    "TOKENIZER = \"babel_9b\"\n",
    "MODEL_NAME = model_name_map[TOKENIZER]\n",
    "\n",
    "df = pd.read_csv(f\"/home/hyujang/multilingual-inner-lexicon/data/{LANGUAGE}_tokenizers_comparison.csv\")\n",
    "df.drop_duplicates(subset=[\"word\"], keep=\"first\", inplace=True)\n",
    "df[\"word_len\"] = df[\"word\"].apply(len)\n",
    "df = df[df['freq'] >= MIN_WORD_FREQ]\n",
    "df = df[(df[f\"token_num_{TOKENIZER}\"]>1)].reset_index(drop=True)\n",
    "print(df[f'token_num_{TOKENIZER}'].value_counts())\n",
    "sampled_df = sample_by_freq(df)\n",
    "print(sampled_df[f'token_num_{TOKENIZER}'].value_counts(normalize=True))\n",
    "sampled_df.to_csv(f\"/home/hyujang/multilingual-inner-lexicon/data/RQ1/WordIdentity/multi_token_{MODEL_NAME}_{LANGUAGE}.csv\", index=False)"
   ]
  },
  {
   "cell_type": "code",
   "execution_count": 42,
   "id": "09c5d36e",
   "metadata": {},
   "outputs": [
    {
     "name": "stdout",
     "output_type": "stream",
     "text": [
      "token_num_gemma_12b\n",
      "2    8543\n",
      "3    2178\n",
      "4     262\n",
      "5      29\n",
      "6       3\n",
      "7       1\n",
      "Name: count, dtype: int64\n",
      "sampled_df: 1000\n",
      "token_num_gemma_12b\n",
      "2    0.779\n",
      "3    0.187\n",
      "4    0.029\n",
      "5    0.004\n",
      "7    0.001\n",
      "Name: proportion, dtype: float64\n"
     ]
    }
   ],
   "source": [
    "LANGUAGE = \"English\"\n",
    "TOKENIZER = \"gemma_12b\"\n",
    "MODEL_NAME = model_name_map[TOKENIZER]\n",
    "\n",
    "df = pd.read_csv(f\"/home/hyujang/multilingual-inner-lexicon/data/{LANGUAGE}_tokenizers_comparison.csv\")\n",
    "df.drop_duplicates(subset=[\"word\"], keep=\"first\", inplace=True)\n",
    "df[\"word_len\"] = df[\"word\"].apply(len)\n",
    "df = df[df['freq'] >= MIN_WORD_FREQ]\n",
    "df = df[(df[f\"token_num_{TOKENIZER}\"]>1)].reset_index(drop=True)\n",
    "print(df[f'token_num_{TOKENIZER}'].value_counts())\n",
    "sampled_df = sample_by_freq(df)\n",
    "print(sampled_df[f'token_num_{TOKENIZER}'].value_counts(normalize=True))\n",
    "sampled_df.to_csv(f\"/home/hyujang/multilingual-inner-lexicon/data/RQ1/WordIdentity/multi_token_{MODEL_NAME}_{LANGUAGE}.csv\", index=False)"
   ]
  },
  {
   "cell_type": "code",
   "execution_count": 41,
   "id": "74054757",
   "metadata": {},
   "outputs": [
    {
     "name": "stdout",
     "output_type": "stream",
     "text": [
      "token_num_llama_2_7b\n",
      "2    7650\n",
      "3    3885\n",
      "4    1016\n",
      "5     207\n",
      "6      44\n",
      "7       7\n",
      "8       2\n",
      "9       1\n",
      "Name: count, dtype: int64\n",
      "sampled_df: 1000\n",
      "token_num_llama_2_7b\n",
      "2    0.595\n",
      "3    0.304\n",
      "4    0.080\n",
      "5    0.014\n",
      "6    0.004\n",
      "8    0.002\n",
      "7    0.001\n",
      "Name: proportion, dtype: float64\n"
     ]
    }
   ],
   "source": [
    "LANGUAGE = \"English\"\n",
    "TOKENIZER = \"llama_2_7b\"\n",
    "MODEL_NAME = model_name_map[TOKENIZER]\n",
    "\n",
    "df = pd.read_csv(f\"/home/hyujang/multilingual-inner-lexicon/data/{LANGUAGE}_tokenizers_comparison.csv\")\n",
    "df.drop_duplicates(subset=[\"word\"], keep=\"first\", inplace=True)\n",
    "df[\"word_len\"] = df[\"word\"].apply(len)\n",
    "df = df[df['freq'] >= MIN_WORD_FREQ]\n",
    "df = df[(df[f\"token_num_{TOKENIZER}\"]>1)].reset_index(drop=True)\n",
    "print(df[f'token_num_{TOKENIZER}'].value_counts())\n",
    "sampled_df = sample_by_freq(df)\n",
    "print(sampled_df[f'token_num_{TOKENIZER}'].value_counts(normalize=True))\n",
    "sampled_df.to_csv(f\"/home/hyujang/multilingual-inner-lexicon/data/RQ1/WordIdentity/multi_token_{MODEL_NAME}_{LANGUAGE}.csv\", index=False)"
   ]
  },
  {
   "cell_type": "markdown",
   "id": "0f31955e",
   "metadata": {},
   "source": [
    "## KOREAN"
   ]
  },
  {
   "cell_type": "code",
   "execution_count": 40,
   "id": "f922323e",
   "metadata": {},
   "outputs": [
    {
     "name": "stdout",
     "output_type": "stream",
     "text": [
      "token_num_babel_9b\n",
      "2    13927\n",
      "3     6238\n",
      "4     1559\n",
      "5      353\n",
      "6       91\n",
      "7       25\n",
      "8       20\n",
      "9        1\n",
      "Name: count, dtype: int64\n",
      "sampled_df: 1000\n",
      "token_num_babel_9b\n",
      "2    0.620\n",
      "3    0.284\n",
      "4    0.077\n",
      "5    0.015\n",
      "6    0.002\n",
      "7    0.001\n",
      "8    0.001\n",
      "Name: proportion, dtype: float64\n",
      "word_len\n",
      "2    0.595\n",
      "3    0.300\n",
      "4    0.086\n",
      "5    0.015\n",
      "6    0.003\n",
      "8    0.001\n",
      "Name: proportion, dtype: float64\n"
     ]
    }
   ],
   "source": [
    "LANGUAGE = \"Korean\"\n",
    "TOKENIZER = \"babel_9b\"\n",
    "MODEL_NAME = model_name_map[TOKENIZER]\n",
    "\n",
    "df = pd.read_csv(f\"/home/hyujang/multilingual-inner-lexicon/data/{LANGUAGE}_tokenizers_comparison.csv\")\n",
    "df.drop_duplicates(subset=[\"word\"], keep=\"first\", inplace=True)\n",
    "df[\"word_len\"] = df[\"word\"].apply(len)\n",
    "df = df[df['freq'] >= MIN_WORD_FREQ]\n",
    "df = df[(df[f\"token_num_{TOKENIZER}\"]>1)].reset_index(drop=True)\n",
    "print(df[f'token_num_{TOKENIZER}'].value_counts())\n",
    "sampled_df = sample_by_freq(df)\n",
    "print(sampled_df[f'token_num_{TOKENIZER}'].value_counts(normalize=True))\n",
    "print(sampled_df['word_len'].value_counts(normalize=True))\n",
    "sampled_df.to_csv(f\"/home/hyujang/multilingual-inner-lexicon/data/RQ1/WordIdentity/multi_token_{MODEL_NAME}_{LANGUAGE}.csv\", index=False)"
   ]
  },
  {
   "cell_type": "code",
   "execution_count": 39,
   "id": "52318a50",
   "metadata": {},
   "outputs": [
    {
     "name": "stdout",
     "output_type": "stream",
     "text": [
      "token_num_gemma_12b\n",
      "2     14327\n",
      "3      6144\n",
      "4      1293\n",
      "5       227\n",
      "6        47\n",
      "7        11\n",
      "8         5\n",
      "10        1\n",
      "9         1\n",
      "Name: count, dtype: int64\n",
      "sampled_df: 1000\n",
      "token_num_gemma_12b\n",
      "2    0.681\n",
      "3    0.240\n",
      "4    0.064\n",
      "5    0.012\n",
      "6    0.002\n",
      "7    0.001\n",
      "Name: proportion, dtype: float64\n",
      "word_len\n",
      "2    0.626\n",
      "3    0.263\n",
      "4    0.088\n",
      "5    0.018\n",
      "6    0.003\n",
      "7    0.001\n",
      "8    0.001\n",
      "Name: proportion, dtype: float64\n"
     ]
    }
   ],
   "source": [
    "LANGUAGE = \"Korean\"\n",
    "TOKENIZER = \"gemma_12b\"\n",
    "MODEL_NAME = model_name_map[TOKENIZER]\n",
    "\n",
    "df = pd.read_csv(f\"/home/hyujang/multilingual-inner-lexicon/data/{LANGUAGE}_tokenizers_comparison.csv\")\n",
    "df.drop_duplicates(subset=[\"word\"], keep=\"first\", inplace=True)\n",
    "df[\"word_len\"] = df[\"word\"].apply(len)\n",
    "df = df[df['freq'] >= MIN_WORD_FREQ]\n",
    "df = df[(df[f\"token_num_{TOKENIZER}\"]>1)].reset_index(drop=True)\n",
    "print(df[f'token_num_{TOKENIZER}'].value_counts())\n",
    "sampled_df = sample_by_freq(df)\n",
    "print(sampled_df[f'token_num_{TOKENIZER}'].value_counts(normalize=True))\n",
    "print(sampled_df['word_len'].value_counts(normalize=True))\n",
    "sampled_df.to_csv(f\"/home/hyujang/multilingual-inner-lexicon/data/RQ1/WordIdentity/multi_token_{MODEL_NAME}_{LANGUAGE}.csv\", index=False)"
   ]
  },
  {
   "cell_type": "code",
   "execution_count": 38,
   "id": "48a642e4",
   "metadata": {},
   "outputs": [
    {
     "name": "stdout",
     "output_type": "stream",
     "text": [
      "token_num_llama_2_7b\n",
      "5     7086\n",
      "7     3947\n",
      "3     3322\n",
      "6     2742\n",
      "8     2154\n",
      "4     1849\n",
      "10     663\n",
      "9      607\n",
      "11     325\n",
      "12     100\n",
      "13      71\n",
      "14      49\n",
      "15      23\n",
      "17       7\n",
      "16       6\n",
      "19       2\n",
      "21       1\n",
      "25       1\n",
      "Name: count, dtype: int64\n",
      "sampled_df: 1000\n",
      "token_num_llama_2_7b\n",
      "5     0.317\n",
      "7     0.169\n",
      "3     0.158\n",
      "6     0.120\n",
      "8     0.086\n",
      "4     0.074\n",
      "10    0.027\n",
      "9     0.022\n",
      "11    0.016\n",
      "12    0.003\n",
      "13    0.003\n",
      "14    0.003\n",
      "15    0.002\n",
      "Name: proportion, dtype: float64\n",
      "word_len\n",
      "2    0.609\n",
      "3    0.265\n",
      "4    0.069\n",
      "1    0.026\n",
      "5    0.019\n",
      "6    0.008\n",
      "7    0.003\n",
      "8    0.001\n",
      "Name: proportion, dtype: float64\n"
     ]
    }
   ],
   "source": [
    "LANGUAGE = \"Korean\"\n",
    "TOKENIZER = \"llama_2_7b\"\n",
    "MODEL_NAME = model_name_map[TOKENIZER]\n",
    "\n",
    "df = pd.read_csv(f\"/home/hyujang/multilingual-inner-lexicon/data/{LANGUAGE}_tokenizers_comparison.csv\")\n",
    "df.drop_duplicates(subset=[\"word\"], keep=\"first\", inplace=True)\n",
    "df[\"word_len\"] = df[\"word\"].apply(len)\n",
    "df = df[df['freq'] >= MIN_WORD_FREQ]\n",
    "df = df[(df[f\"token_num_{TOKENIZER}\"]>2)].reset_index(drop=True) # Adjusted to >2 for llama_2_7b\n",
    "print(df[f'token_num_{TOKENIZER}'].value_counts())\n",
    "sampled_df = sample_by_freq(df)\n",
    "print(sampled_df[f'token_num_{TOKENIZER}'].value_counts(normalize=True))\n",
    "print(sampled_df['word_len'].value_counts(normalize=True))\n",
    "sampled_df.to_csv(f\"/home/hyujang/multilingual-inner-lexicon/data/RQ1/WordIdentity/multi_token_{MODEL_NAME}_{LANGUAGE}.csv\", index=False)"
   ]
  },
  {
   "cell_type": "code",
   "execution_count": 11,
   "id": "aa33da72",
   "metadata": {},
   "outputs": [
    {
     "data": {
      "text/plain": [
       "tokens_llama_2_7b\n",
       "▁    60595\n",
       "Name: count, dtype: int64"
      ]
     },
     "execution_count": 11,
     "metadata": {},
     "output_type": "execute_result"
    }
   ],
   "source": [
    "import ast\n",
    "import pandas as pd\n",
    "LANGUAGE\n",
    "df = pd.read_csv(f\"/home/hyujang/multilingual-inner-lexicon/data/{LANGUAGE}_tokenizers_comparison.csv\")\n",
    "df['tokens_llama_2_7b'] = df['tokens_llama_2_7b'].apply(ast.literal_eval)\n",
    "df['tokens_llama_2_7b'].str[0].value_counts() # all tokens start with '▁'\n"
   ]
  },
  {
   "cell_type": "code",
   "execution_count": 12,
   "id": "4f5512db",
   "metadata": {},
   "outputs": [
    {
     "data": {
      "text/plain": [
       "['▁', '역']"
      ]
     },
     "execution_count": 12,
     "metadata": {},
     "output_type": "execute_result"
    }
   ],
   "source": [
    "df['tokens_llama_2_7b'][0]"
   ]
  },
  {
   "cell_type": "code",
   "execution_count": 16,
   "id": "ae4b68ef",
   "metadata": {},
   "outputs": [
    {
     "data": {
      "text/plain": [
       "''"
      ]
     },
     "execution_count": 16,
     "metadata": {},
     "output_type": "execute_result"
    }
   ],
   "source": [
    "word_nonword_cls.tokenizer.convert_tokens_to_string([df['tokens_llama_2_7b'][0][0]])"
   ]
  },
  {
   "cell_type": "markdown",
   "id": "29fd4d89",
   "metadata": {},
   "source": [
    "## GERMAN"
   ]
  },
  {
   "cell_type": "code",
   "execution_count": 37,
   "id": "0d6dd757",
   "metadata": {},
   "outputs": [
    {
     "name": "stdout",
     "output_type": "stream",
     "text": [
      "token_num_babel_9b\n",
      "4     10118\n",
      "3      8932\n",
      "5      7174\n",
      "6      3489\n",
      "7      1399\n",
      "8       392\n",
      "9       135\n",
      "10       39\n",
      "11        6\n",
      "12        3\n",
      "Name: count, dtype: int64\n",
      "sampled_df: 1000\n",
      "token_num_babel_9b\n",
      "4     0.350\n",
      "3     0.270\n",
      "5     0.229\n",
      "6     0.101\n",
      "7     0.033\n",
      "8     0.012\n",
      "9     0.004\n",
      "10    0.001\n",
      "Name: proportion, dtype: float64\n",
      "word_len\n",
      "10    0.123\n",
      "9     0.109\n",
      "11    0.099\n",
      "12    0.097\n",
      "13    0.097\n",
      "15    0.076\n",
      "8     0.072\n",
      "14    0.059\n",
      "16    0.051\n",
      "7     0.044\n",
      "17    0.044\n",
      "18    0.027\n",
      "19    0.025\n",
      "6     0.023\n",
      "5     0.011\n",
      "21    0.008\n",
      "22    0.008\n",
      "20    0.008\n",
      "4     0.005\n",
      "24    0.004\n",
      "23    0.004\n",
      "28    0.002\n",
      "26    0.002\n",
      "25    0.001\n",
      "29    0.001\n",
      "Name: proportion, dtype: float64\n"
     ]
    }
   ],
   "source": [
    "LANGUAGE = \"German\"\n",
    "TOKENIZER = \"babel_9b\"\n",
    "MODEL_NAME = model_name_map[TOKENIZER]\n",
    "\n",
    "df = pd.read_csv(f\"/home/hyujang/multilingual-inner-lexicon/data/{LANGUAGE}_tokenizers_comparison.csv\")\n",
    "df.drop_duplicates(subset=[\"word\"], keep=\"first\", inplace=True)\n",
    "df[\"word_len\"] = df[\"word\"].apply(len)\n",
    "df = df[df['freq'] >= MIN_WORD_FREQ]\n",
    "df = df[(df[f\"token_num_{TOKENIZER}\"]>2)].reset_index(drop=True) # Adjusted to >2 for llama_2_7b\n",
    "print(df[f'token_num_{TOKENIZER}'].value_counts())\n",
    "sampled_df = sample_by_freq(df)\n",
    "print(sampled_df[f'token_num_{TOKENIZER}'].value_counts(normalize=True))\n",
    "print(sampled_df['word_len'].value_counts(normalize=True))\n",
    "sampled_df.to_csv(f\"/home/hyujang/multilingual-inner-lexicon/data/RQ1/WordIdentity/multi_token_{MODEL_NAME}_{LANGUAGE}.csv\", index=False)"
   ]
  },
  {
   "cell_type": "code",
   "execution_count": 36,
   "id": "6170cb78",
   "metadata": {},
   "outputs": [
    {
     "name": "stdout",
     "output_type": "stream",
     "text": [
      "token_num_gemma_12b\n",
      "3     12866\n",
      "4      9306\n",
      "5      3888\n",
      "6      1106\n",
      "7       262\n",
      "8        48\n",
      "9         8\n",
      "10        2\n",
      "Name: count, dtype: int64\n",
      "sampled_df: 1000\n",
      "token_num_gemma_12b\n",
      "3    0.492\n",
      "4    0.313\n",
      "5    0.143\n",
      "6    0.040\n",
      "7    0.007\n",
      "8    0.005\n",
      "Name: proportion, dtype: float64\n",
      "word_len\n",
      "11    0.130\n",
      "12    0.115\n",
      "10    0.106\n",
      "9     0.097\n",
      "14    0.084\n",
      "13    0.078\n",
      "15    0.065\n",
      "8     0.050\n",
      "18    0.045\n",
      "17    0.044\n",
      "16    0.041\n",
      "7     0.033\n",
      "19    0.025\n",
      "6     0.024\n",
      "20    0.018\n",
      "21    0.012\n",
      "5     0.008\n",
      "22    0.007\n",
      "24    0.005\n",
      "28    0.002\n",
      "25    0.002\n",
      "26    0.002\n",
      "23    0.002\n",
      "27    0.002\n",
      "4     0.002\n",
      "29    0.001\n",
      "Name: proportion, dtype: float64\n"
     ]
    }
   ],
   "source": [
    "LANGUAGE = \"German\"\n",
    "TOKENIZER = \"gemma_12b\"\n",
    "MODEL_NAME = model_name_map[TOKENIZER]\n",
    "\n",
    "df = pd.read_csv(f\"/home/hyujang/multilingual-inner-lexicon/data/{LANGUAGE}_tokenizers_comparison.csv\")\n",
    "df.drop_duplicates(subset=[\"word\"], keep=\"first\", inplace=True)\n",
    "df[\"word_len\"] = df[\"word\"].apply(len)\n",
    "df = df[df['freq'] >= MIN_WORD_FREQ]\n",
    "df = df[(df[f\"token_num_{TOKENIZER}\"]>2)].reset_index(drop=True) # Adjusted to >2 for llama_2_7b\n",
    "print(df[f'token_num_{TOKENIZER}'].value_counts())\n",
    "sampled_df = sample_by_freq(df)\n",
    "print(sampled_df[f'token_num_{TOKENIZER}'].value_counts(normalize=True))\n",
    "print(sampled_df['word_len'].value_counts(normalize=True))\n",
    "sampled_df.to_csv(f\"/home/hyujang/multilingual-inner-lexicon/data/RQ1/WordIdentity/multi_token_{MODEL_NAME}_{LANGUAGE}.csv\", index=False)"
   ]
  },
  {
   "cell_type": "code",
   "execution_count": 33,
   "id": "83d1a31d",
   "metadata": {},
   "outputs": [
    {
     "name": "stdout",
     "output_type": "stream",
     "text": [
      "token_num_llama_2_7b\n",
      "3     11449\n",
      "4      9848\n",
      "5      5172\n",
      "6      1960\n",
      "7       601\n",
      "8       179\n",
      "9        35\n",
      "10       16\n",
      "11        2\n",
      "12        1\n",
      "Name: count, dtype: int64\n",
      "sampled_df: 1000\n",
      "token_num_llama_2_7b\n",
      "3     0.416\n",
      "4     0.335\n",
      "5     0.177\n",
      "6     0.048\n",
      "7     0.017\n",
      "8     0.006\n",
      "10    0.001\n",
      "Name: proportion, dtype: float64\n",
      "word_len\n",
      "10    0.127\n",
      "11    0.123\n",
      "13    0.111\n",
      "12    0.094\n",
      "9     0.087\n",
      "15    0.080\n",
      "8     0.065\n",
      "14    0.061\n",
      "17    0.041\n",
      "16    0.038\n",
      "7     0.035\n",
      "18    0.030\n",
      "19    0.026\n",
      "6     0.022\n",
      "21    0.015\n",
      "20    0.015\n",
      "22    0.010\n",
      "5     0.007\n",
      "23    0.006\n",
      "24    0.003\n",
      "26    0.002\n",
      "28    0.001\n",
      "4     0.001\n",
      "Name: proportion, dtype: float64\n"
     ]
    }
   ],
   "source": [
    "LANGUAGE = \"German\"\n",
    "TOKENIZER = \"llama_2_7b\"\n",
    "MODEL_NAME = model_name_map[TOKENIZER]\n",
    "\n",
    "df = pd.read_csv(f\"/home/hyujang/multilingual-inner-lexicon/data/{LANGUAGE}_tokenizers_comparison.csv\")\n",
    "df.drop_duplicates(subset=[\"word\"], keep=\"first\", inplace=True)\n",
    "df[\"word_len\"] = df[\"word\"].apply(len)\n",
    "df = df[df['freq'] >= MIN_WORD_FREQ]\n",
    "df = df[(df[f\"token_num_{TOKENIZER}\"]>2)].reset_index(drop=True) # Adjusted to >2 for llama_2_7b\n",
    "print(df[f'token_num_{TOKENIZER}'].value_counts())\n",
    "sampled_df = sample_by_freq(df)\n",
    "print(sampled_df[f'token_num_{TOKENIZER}'].value_counts(normalize=True))\n",
    "print(sampled_df['word_len'].value_counts(normalize=True))\n",
    "sampled_df.to_csv(f\"/home/hyujang/multilingual-inner-lexicon/data/RQ1/WordIdentity/multi_token_{MODEL_NAME}_{LANGUAGE}.csv\", index=False)"
   ]
  },
  {
   "cell_type": "markdown",
   "id": "bedabc38",
   "metadata": {},
   "source": [
    "# TESTS"
   ]
  },
  {
   "cell_type": "code",
   "execution_count": 1,
   "id": "6c64792d",
   "metadata": {},
   "outputs": [
    {
     "name": "stdout",
     "output_type": "stream",
     "text": [
      "Using device: cuda\n"
     ]
    },
    {
     "data": {
      "application/vnd.jupyter.widget-view+json": {
       "model_id": "25f0b10e69294699b3bba9e4e486494f",
       "version_major": 2,
       "version_minor": 0
      },
      "text/plain": [
       "Loading checkpoint shards:   0%|          | 0/2 [00:00<?, ?it/s]"
      ]
     },
     "metadata": {},
     "output_type": "display_data"
    }
   ],
   "source": [
    "import sys\n",
    "import os\n",
    "# Add the RQ1 directory to the path\n",
    "# sys.path.append(os.path.abspath(\"../\"))\n",
    "# from ..WordNonword.classification import WordNonwordClassifier\n",
    "from logitlens import LogitLens\n",
    "\n",
    "# model_name = \"google/gemma-3-12b-it\"\n",
    "# model_name = \"google/gemma-3-12b-pt\"\n",
    "model_name = \"meta-llama/Llama-2-7b-chat-hf\"\n",
    "# model_name = \"Tower-Babel/Babel-9B-Chat\"\n",
    "word_nonword_cls = LogitLens(\"English\", model_name) # language is not used in the model name, but it is required by the class"
   ]
  },
  {
   "cell_type": "code",
   "execution_count": 7,
   "id": "384b10dd",
   "metadata": {},
   "outputs": [
    {
     "data": {
      "text/plain": [
       "'선'"
      ]
     },
     "execution_count": 7,
     "metadata": {},
     "output_type": "execute_result"
    }
   ],
   "source": [
    "import ast\n",
    "word_nonword_cls.tokenizer.convert_tokens_to_string([ast.literal_eval(df['tokens_babel_9b'][0])[0]])"
   ]
  },
  {
   "cell_type": "code",
   "execution_count": 15,
   "id": "abd7cf0e",
   "metadata": {},
   "outputs": [
    {
     "data": {
      "text/plain": [
       "['ìĦł', 'ìĪĺ']"
      ]
     },
     "execution_count": 15,
     "metadata": {},
     "output_type": "execute_result"
    }
   ],
   "source": [
    "word_nonword_cls.tokenizer.convert_tokens_to_string"
   ]
  }
 ],
 "metadata": {
  "kernelspec": {
   "display_name": "thesis",
   "language": "python",
   "name": "python3"
  },
  "language_info": {
   "codemirror_mode": {
    "name": "ipython",
    "version": 3
   },
   "file_extension": ".py",
   "mimetype": "text/x-python",
   "name": "python",
   "nbconvert_exporter": "python",
   "pygments_lexer": "ipython3",
   "version": "3.12.9"
  }
 },
 "nbformat": 4,
 "nbformat_minor": 5
}
